{
 "cells": [
  {
   "cell_type": "markdown",
   "metadata": {},
   "source": [
    "建立一個可以輸入金額的funtion\n",
    "找出最大值 最小值 總額\n",
    "並按照大小排列\n",
    "分別以list以及dict製作"
   ]
  },
  {
   "cell_type": "code",
   "execution_count": 2,
   "metadata": {},
   "outputs": [
    {
     "name": "stdout",
     "output_type": "stream",
     "text": [
      "如果停止輸入請輸入-1\n",
      "請輸入第 1 個月的金額:5463\n",
      "請輸入第 2 個月的金額:2595\n",
      "請輸入第 3 個月的金額:3256\n",
      "請輸入第 4 個月的金額:2145\n",
      "請輸入第 5 個月的金額:9856\n",
      "請輸入第 6 個月的金額:-1\n",
      "支出最大金額: 9856\n",
      "支出最小金額: 2145\n",
      "支出總額: 23315\n",
      "支出金額由小至大排列: [2145, 2595, 3256, 5463, 9856]\n"
     ]
    }
   ],
   "source": [
    "#以串列操作\n",
    "cash = []\n",
    "print(\"如果停止輸入請輸入-1\")\n",
    "total = inscore = 0\n",
    "\n",
    "n = 1\n",
    "\n",
    "while (inscore != -1):\n",
    "    inscore = int(input(\"請輸入第 %d 個月的金額:\" %n))\n",
    "    cash.append(inscore)\n",
    "    n += 1\n",
    "\n",
    "#利用迴圈計算出總和\n",
    "#i表示的是串列每一格的位置 但是最後的-1那格不算\n",
    "for i in range(0, len(cash)-1):\n",
    "    total += cash[i]\n",
    "    \n",
    "#將表示串列結束的-1移除\n",
    "cash.remove(-1)\n",
    "\n",
    "\n",
    "#印出目前表單中的資料\n",
    "def Max():\n",
    "    cash.sort()\n",
    "    print(\"支出最大金額:\", cash[-1])\n",
    "\n",
    "def Min():\n",
    "    cash.sort()\n",
    "    print(\"支出最小金額:\", cash[0])\n",
    "      \n",
    "Max()\n",
    "Min()\n",
    "print(\"支出總額:\", total)\n",
    "print(\"支出金額由小至大排列:\", cash)"
   ]
  },
  {
   "cell_type": "code",
   "execution_count": null,
   "metadata": {},
   "outputs": [],
   "source": [
    "#以dict操作\n",
    "cash = {}\n",
    "print(\"如果停止輸入請輸入-1\")\n",
    "total = inscore = 0\n",
    "\n",
    "n = 1\n",
    "\n",
    "while (inscore != -1):\n",
    "    inscore = int(input(\"請輸入第 %d 個月的金額:\" %n))\n",
    "    cash.append(inscore)\n",
    "    n += 1\n",
    "\n",
    "#利用迴圈計算出總和\n",
    "#i表示的是串列每一格的位置 但是最後的-1那格不算\n",
    "for i in range(0, len(cash)-1):\n",
    "    total += cash[i]\n",
    "    \n",
    "#將表示串列結束的-1移除\n",
    "cash.remove(-1)\n",
    "\n",
    "\n",
    "#印出目前表單中的資料\n",
    "def Max():\n",
    "    cash.sort()\n",
    "    print(\"支出最大金額:\", cash[-1])\n",
    "\n",
    "def Min():\n",
    "    cash.sort()\n",
    "    print(\"支出最小金額:\", cash[0])\n",
    "      \n",
    "Max()\n",
    "Min()\n",
    "print(\"支出總額:\", total)\n",
    "print(\"支出金額由小至大排列:\", cash)"
   ]
  },
  {
   "cell_type": "code",
   "execution_count": 3,
   "metadata": {},
   "outputs": [
    {
     "data": {
      "text/plain": [
       "'http://dpaste.com/3JQKAAM'"
      ]
     },
     "execution_count": 3,
     "metadata": {},
     "output_type": "execute_result"
    }
   ],
   "source": [
    "%pastebin 2"
   ]
  },
  {
   "cell_type": "code",
   "execution_count": null,
   "metadata": {},
   "outputs": [],
   "source": []
  },
  {
   "cell_type": "code",
   "execution_count": null,
   "metadata": {},
   "outputs": [],
   "source": []
  }
 ],
 "metadata": {
  "kernelspec": {
   "display_name": "Python 3",
   "language": "python",
   "name": "python3"
  },
  "language_info": {
   "codemirror_mode": {
    "name": "ipython",
    "version": 3
   },
   "file_extension": ".py",
   "mimetype": "text/x-python",
   "name": "python",
   "nbconvert_exporter": "python",
   "pygments_lexer": "ipython3",
   "version": "3.7.0"
  }
 },
 "nbformat": 4,
 "nbformat_minor": 2
}
