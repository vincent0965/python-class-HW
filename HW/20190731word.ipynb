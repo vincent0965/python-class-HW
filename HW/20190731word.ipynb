{
 "cells": [
  {
   "cell_type": "code",
   "execution_count": 1,
   "metadata": {},
   "outputs": [
    {
     "name": "stdout",
     "output_type": "stream",
     "text": [
      "請輸入第1號學生成績(-1 to exist): 98\n",
      "請輸入第2號學生成績(-1 to exist): 98\n",
      "請輸入第3號學生成績(-1 to exist): 65\n",
      "請輸入第4號學生成績(-1 to exist): 36269\n",
      "請輸入第5號學生成績(-1 to exist): -1\n"
     ]
    }
   ],
   "source": [
    "no = 1\n",
    "scores = dict()\n",
    "while True:\n",
    "    score = int(input(\"請輸入第{}號學生成績(-1 to exist): \".format(no)))\n",
    "    if score == -1: \n",
    "        break\n",
    "    scores[no] = score\n",
    "    no += 1\n",
    "\n",
    "with open(\"score.txt\", \"w\", encoding = \"utf8\") as fhand:\n",
    "    fhand.write(str(scores))"
   ]
  },
  {
   "cell_type": "code",
   "execution_count": 9,
   "metadata": {},
   "outputs": [],
   "source": [
    "fhand = open(\"data.txt\", \"r\", encoding = \"UTF-8\")"
   ]
  },
  {
   "cell_type": "code",
   "execution_count": 16,
   "metadata": {},
   "outputs": [
    {
     "name": "stdout",
     "output_type": "stream",
     "text": [
      "python與中文\n",
      "\n",
      "1.我們來試試看中文儲存能力\n",
      "\n"
     ]
    }
   ],
   "source": [
    "with open(\"data.txt\", encoding = \"utf8\") as fhand:\n",
    "    print(fhand.readline())\n",
    "    print(fhand.readline())"
   ]
  },
  {
   "cell_type": "code",
   "execution_count": 11,
   "metadata": {},
   "outputs": [
    {
     "name": "stdout",
     "output_type": "stream",
     "text": [
      "python與中文\n",
      "\n",
      "1.我們來試試看中文儲存能力\n",
      "\n",
      "2.許這個字會有編碼衝突風險\n",
      "\n",
      "3.犇這個字必須是utf8編碼才有。\n",
      "\n"
     ]
    }
   ],
   "source": [
    "with open(\"data.txt\", encoding = \"utf8\") as fhand:\n",
    "    for line in fhand.readlines():\n",
    "        print(line)"
   ]
  },
  {
   "cell_type": "code",
   "execution_count": 46,
   "metadata": {},
   "outputs": [
    {
     "name": "stdout",
     "output_type": "stream",
     "text": [
      "var1 = 20\n",
      "var2 = 123.45\n",
      "for i in range():\n",
      "print(i)\n",
      "var3 = True\n",
      "var4 = 'string1'\n"
     ]
    }
   ],
   "source": [
    "# 建立data2的檔案 先處理 type1 的內容\n",
    "with open(\"type1.py\", encoding = \"utf8\") as fhand:\n",
    "    for line in fhand.readlines():\n",
    "        line = line.strip()\n",
    "        if line.startswith(\"#\") or line == \"\":  # 將 # 以及空白行去除\n",
    "            continue\n",
    "        print(line)"
   ]
  },
  {
   "cell_type": "code",
   "execution_count": 47,
   "metadata": {},
   "outputs": [],
   "source": [
    "# 將處理過的 type1, 寫進去到 data2內\n",
    "with open(\"type1.py\", encoding = \"utf8\") as fhand, open(\"data2.txt\", \"w\", encoding = \"utf8\") as fhand2:\n",
    "    #先將 type1 的資料放到串列當中\n",
    "    line_list = []\n",
    "    for line in fhand.readlines():\n",
    "        line = line.strip()\n",
    "        if line.startswith(\"#\") or line == \"\":\n",
    "            continue\n",
    "        # 內容變成一行一行的\n",
    "        line_list.append(line)\n",
    "    # 寫進去每一行都會換行\n",
    "    file_str = \"\\n\".join(line_list)\n",
    "    fhand2.write(file_str)"
   ]
  },
  {
   "cell_type": "code",
   "execution_count": 19,
   "metadata": {},
   "outputs": [
    {
     "name": "stdout",
     "output_type": "stream",
     "text": [
      "hello\n",
      "hello\n",
      "hello\n",
      "hello\n"
     ]
    }
   ],
   "source": [
    "str1 = \"hello\"\n",
    "print(str1)\n",
    "print(str1.strip())\n",
    "print(str1.lstrip())\n",
    "print(str1.rstrip())"
   ]
  },
  {
   "cell_type": "code",
   "execution_count": 20,
   "metadata": {},
   "outputs": [
    {
     "data": {
      "text/plain": [
       "' World'"
      ]
     },
     "execution_count": 20,
     "metadata": {},
     "output_type": "execute_result"
    }
   ],
   "source": [
    "str2 = \"Hello World\"\n",
    "str2.strip(\"Hello\")"
   ]
  },
  {
   "cell_type": "code",
   "execution_count": 12,
   "metadata": {},
   "outputs": [
    {
     "name": "stdout",
     "output_type": "stream",
     "text": [
      " 104/01/03\n",
      " 104/01/17\n",
      " 104/01/30\n",
      " 104/01/31\n"
     ]
    }
   ],
   "source": [
    "import csv\n",
    "\n",
    "with open(\"example_no_header.csv\", encoding = \"utf8\") as fhand:\n",
    "    for row in csv.reader(fhand):\n",
    "        if float(row[-1]) > 100:\n",
    "            print(row[0])"
   ]
  },
  {
   "cell_type": "code",
   "execution_count": 13,
   "metadata": {},
   "outputs": [
    {
     "name": "stdout",
     "output_type": "stream",
     "text": [
      "[' 104/01/02', '2,104,640,545', '50,472,201,894', '497,889', '6,952.21', '-119.87']\n",
      "[' 104/01/03', '2,640,781,030', '64,138,886,194', '623,192', '7,053.38', '101.17']\n",
      "[' 104/01/04', '2,983,756,821', '75,845,629,353', '728,417', '7,082.97', '29.59']\n",
      "[' 104/01/05', '3,062,757,248', '76,850,752,698', '737,780', '7,130.86', '47.89']\n",
      "[' 104/01/06', '3,314,147,435', '88,101,921,548', '823,810', '7,120.51', '-10.35']\n",
      "[' 104/01/09', '2,610,433,477', '71,323,370,369', '634,137', '7,093.04', '-27.47']\n",
      "[' 104/01/10', '3,595,611,551', '97,168,542,017', '869,327', '7,178.87', '85.83']\n",
      "[' 104/01/11', '3,322,390,467', '88,786,671,892', '802,539', '7,188.21', '9.34']\n",
      "[' 104/01/12', '2,969,248,375', '78,947,910,460', '731,328', '7,186.58', '-1.63']\n",
      "[' 104/01/13', '3,497,838,901', '99,286,437,370', '819,762', '7,181.54', '-5.04']\n",
      "[' 104/01/16', '3,184,795,667', '76,842,611,338', '719,725', '7,103.62', '-77.92']\n",
      "[' 104/01/17', '3,720,277,205', '101,133,309,290', '899,597', '7,221.08', '117.46']\n",
      "[' 104/01/18', '4,088,756,925', '113,988,641,382', '1,020,420', '7,233.69', '12.61']\n",
      "[' 104/01/30', '4,540,373,544', '143,900,658,474', '1,113,727', '7,407.41', '173.72']\n",
      "[' 104/01/31', '5,486,734,180', '162,361,181,834', '1,283,951', '7,517.08', '109.67']\n"
     ]
    }
   ],
   "source": [
    "with open(\"example_no_header.csv\", encoding = \"utf8\") as fhand:\n",
    "    for row in csv.reader(fhand):\n",
    "        print(row)"
   ]
  },
  {
   "cell_type": "code",
   "execution_count": 15,
   "metadata": {},
   "outputs": [
    {
     "name": "stdout",
     "output_type": "stream",
     "text": [
      " 104/01/02\n",
      " 104/01/03\n",
      " 104/01/04\n",
      " 104/01/05\n",
      " 104/01/06\n",
      " 104/01/09\n",
      " 104/01/10\n",
      " 104/01/11\n",
      " 104/01/12\n",
      " 104/01/13\n",
      " 104/01/16\n",
      " 104/01/17\n",
      " 104/01/18\n",
      " 104/01/30\n",
      " 104/01/31\n"
     ]
    }
   ],
   "source": [
    "with open(\"example_header.csv\", encoding = \"utf8\") as fhand:\n",
    "    for row in csv.DictReader(fhand):\n",
    "        print(row[\"日期\"])"
   ]
  },
  {
   "cell_type": "code",
   "execution_count": 19,
   "metadata": {},
   "outputs": [
    {
     "name": "stdout",
     "output_type": "stream",
     "text": [
      " 104/01/03\n",
      " 104/01/17\n",
      " 104/01/30\n",
      " 104/01/31\n"
     ]
    }
   ],
   "source": [
    "with open(\"example_header.csv\", encoding = \"utf8\") as fhand:\n",
    "    for row in csv.DictReader(fhand):\n",
    "        if float(row[\"漲跌點數\"]) > 100:\n",
    "            print(row[\"日期\"])"
   ]
  },
  {
   "cell_type": "code",
   "execution_count": 28,
   "metadata": {},
   "outputs": [
    {
     "name": "stdout",
     "output_type": "stream",
     "text": [
      " 104/01/03\n",
      " 104/01/17\n",
      " 104/01/30\n",
      " 104/01/31\n"
     ]
    }
   ],
   "source": [
    "with open(\"example_header.csv\", encoding = \"utf8\") as fhand:\n",
    "    next(fhand)\n",
    "    for row in csv.DictReader(fhand, [\"date\", \"b\", \"c\",\"d\", \"e\", \"point\"]):\n",
    "        if float(row[\"point\"]) > 100:\n",
    "            print(row[\"date\"])"
   ]
  },
  {
   "cell_type": "code",
   "execution_count": 34,
   "metadata": {},
   "outputs": [],
   "source": [
    "# \\可用在分行\n",
    "with open(\"example_header.csv\", encoding = \"utf8\") as re_file, \\\n",
    "open(\"test.csv\", \"w\", encoding = \"utf8\") as out_file:\n",
    "    csv_list = csv.reader(re_file)\n",
    "    # 在每個 csv 中 每個資料檔案都使用(\")框起來 所以在處理時會依照(\")來處理\n",
    "    writer = csv.writer(out_file, delimiter = \"-\", quotechar = '\"', quoting = csv.QUOTE_ALL)\n",
    "    for row in csv_list:\n",
    "        writer.writerow(row)"
   ]
  },
  {
   "cell_type": "code",
   "execution_count": 44,
   "metadata": {},
   "outputs": [
    {
     "name": "stdout",
     "output_type": "stream",
     "text": [
      "else error\n",
      "Out of try\n"
     ]
    }
   ],
   "source": [
    "# 錯誤偵測\n",
    "try:\n",
    "    with open(\"data.txt\") as fhand:\n",
    "        print(fhand.read())\n",
    "    list1 = [1, 2, 3]\n",
    "    list1[2] = 4\n",
    "    print(list1)\n",
    "    # 下列本身是一個錯誤的內容 會引導進入下列的 except 或者是無法預期的錯誤\n",
    "    print(1 / 0)\n",
    "# 如果沒有錯誤 不會執行 except的內容\n",
    "except FileNotFoundError: # 檔案不存在\n",
    "    print(\"Please correct your file name!\")\n",
    "except IndexError: # 索引錯誤\n",
    "    print(\"Index Error\")\n",
    "except: # 任何其他的錯誤\n",
    "    print(\"else error\")\n",
    "    \n",
    "print(\"Out of try\")"
   ]
  },
  {
   "cell_type": "raw",
   "metadata": {},
   "source": [
    "# JSON & API\n",
    "JSON是一種有格式的文字表示\n",
    "有某種語法格式，文字基礎\n",
    "可表達大量文字，資料容易傳輸\n",
    "其他種類的API(XML、YAML等)\n",
    "基礎結構:\n",
    "object = dict of python ; array = list of python"
   ]
  },
  {
   "cell_type": "code",
   "execution_count": 3,
   "metadata": {},
   "outputs": [
    {
     "name": "stdout",
     "output_type": "stream",
     "text": [
      "{\"python\": \"good中\", \"apple\": 100, \"vincent\": true, \"money\": null}\n",
      "b'{\"python\": \"good\\xe4\\xb8\\xad\", \"apple\": 100, \"vincent\": true, \"money\": null}'\n"
     ]
    }
   ],
   "source": [
    "import json\n",
    "# 將python格式的資料轉成json格式\n",
    "dict1 = {\"python\": \"good中\", \"apple\": 100, \"vincent\": True, \"money\": None}\n",
    "# 中文編碼 需要在後面加上 ensure_ascii = False\n",
    "json_str = json.dumps(dict1, ensure_ascii = False)\n",
    "print(json_str)\n",
    "print(json_str.encode(\"utf8\"))"
   ]
  },
  {
   "cell_type": "code",
   "execution_count": 5,
   "metadata": {},
   "outputs": [],
   "source": [
    "import json\n",
    "# list給定一個名稱 people\n",
    "data = dict()\n",
    "data[\"people\"] = list()\n",
    "dict1 = {\"name\":\"scott\", \"website\":\"stackbuse.com\", \"from\":\"Nebraska\"}\n",
    "dict2 = {\"name\":\"Larry\", \"website\":\"google.com\", \"from\":None}\n",
    "data[\"people\"].append(dict1)\n",
    "data[\"people\"].append(dict2)"
   ]
  },
  {
   "cell_type": "code",
   "execution_count": 6,
   "metadata": {},
   "outputs": [],
   "source": [
    "#將上面的資料用json的格式寫入檔案\n",
    "with open(\"data.json\", \"w\", encoding = \"utf8\") as out_file:\n",
    "    json.dump(data, out_file)  # dump直接寫進檔案\n",
    "\n",
    "with open(\"data2.json\", \"w\", encoding = \"utf8\") as out_file:\n",
    "    json_str = json.dumps(data)  # dumps先將內容轉成字串\n",
    "    out_file.write(json_str)  # 再將字串寫進檔案\n",
    "# 視需求決定寫入方式"
   ]
  },
  {
   "cell_type": "code",
   "execution_count": 13,
   "metadata": {},
   "outputs": [
    {
     "name": "stdout",
     "output_type": "stream",
     "text": [
      "<class 'dict'>\n",
      "<class 'list'>\n",
      "[1, 2, 3, 4.5]\n",
      "True\n"
     ]
    }
   ],
   "source": [
    "# 將json 格式的資料轉成 python格式\n",
    "json_str = '{\"python\": \"good\", \"apple\": 100, \"vincent\": true, \"money\": null}'\n",
    "json_str2 = '[1, 2, 3, 4.5]'\n",
    "python_data = json.loads(json_str)\n",
    "python_data2 = json.loads(json_str2)\n",
    "print(type(python_data))\n",
    "print(type(python_data2))\n",
    "print(python_data2)\n",
    "print(python_data[\"vincent\"])"
   ]
  },
  {
   "cell_type": "code",
   "execution_count": 11,
   "metadata": {},
   "outputs": [
    {
     "name": "stdout",
     "output_type": "stream",
     "text": [
      "<class 'dict'>\n",
      "{'name': 'scott', 'website': 'stackbuse.com', 'from': 'Nebraska'}\n"
     ]
    }
   ],
   "source": [
    "with open(\"data.json\") as json_file:\n",
    "    py_data = json.load(json_file)\n",
    "print(type(py_data))\n",
    "print(py_data[\"people\"][0])"
   ]
  },
  {
   "cell_type": "code",
   "execution_count": 15,
   "metadata": {},
   "outputs": [
    {
     "name": "stdout",
     "output_type": "stream",
     "text": [
      "<class 'numpy.ndarray'>\n",
      "[1 2 3]\n"
     ]
    },
    {
     "data": {
      "text/plain": [
       "array([1, 2, 3])"
      ]
     },
     "execution_count": 15,
     "metadata": {},
     "output_type": "execute_result"
    }
   ],
   "source": [
    "import numpy as np\n",
    "\n",
    "array1 = np.array([1, 2, 3])\n",
    "print(type(array1))\n",
    "print(array1)\n",
    "array1"
   ]
  },
  {
   "cell_type": "code",
   "execution_count": null,
   "metadata": {},
   "outputs": [],
   "source": []
  }
 ],
 "metadata": {
  "kernelspec": {
   "display_name": "Python 3",
   "language": "python",
   "name": "python3"
  },
  "language_info": {
   "codemirror_mode": {
    "name": "ipython",
    "version": 3
   },
   "file_extension": ".py",
   "mimetype": "text/x-python",
   "name": "python",
   "nbconvert_exporter": "python",
   "pygments_lexer": "ipython3",
   "version": "3.7.0"
  }
 },
 "nbformat": 4,
 "nbformat_minor": 2
}
