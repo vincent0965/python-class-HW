{
 "cells": [
  {
   "cell_type": "markdown",
   "metadata": {},
   "source": [
    "numpy 語法模組\n",
    "多維陣列操作 協助數據作圖 有功能函數庫"
   ]
  },
  {
   "cell_type": "code",
   "execution_count": 1,
   "metadata": {},
   "outputs": [
    {
     "name": "stdout",
     "output_type": "stream",
     "text": [
      "[[1 2 3]\n",
      " [4 5 6]]\n"
     ]
    },
    {
     "data": {
      "text/plain": [
       "array([[1, 2, 3],\n",
       "       [4, 5, 6]])"
      ]
     },
     "execution_count": 1,
     "metadata": {},
     "output_type": "execute_result"
    }
   ],
   "source": [
    "import numpy as np\n",
    "# numpy array row 固定大小 從在同一組記憶體內的資料\n",
    "array1 = np.array([[1, 2, 3],[4, 5, 6]])\n",
    "\n",
    "print(array1)\n",
    "array1"
   ]
  },
  {
   "cell_type": "markdown",
   "metadata": {},
   "source": [
    "numpy 的性質"
   ]
  },
  {
   "cell_type": "code",
   "execution_count": 2,
   "metadata": {},
   "outputs": [
    {
     "name": "stdout",
     "output_type": "stream",
     "text": [
      "<class 'numpy.ndarray'>\n",
      "2\n",
      "(2, 3)\n",
      "6\n",
      "int32\n"
     ]
    }
   ],
   "source": [
    "print(type(array1))  # 整體資料型態\n",
    "print(array1.ndim)  # 資料維度(ex:array1有兩格)\n",
    "print(array1.shape)  # 陣列的組成形狀(ex:2*3的矩陣[row*columu])\n",
    "print(array1.size)  # 矩陣總共的格數\n",
    "print(array1.dtype)  # 內容資料型態"
   ]
  },
  {
   "cell_type": "code",
   "execution_count": 3,
   "metadata": {},
   "outputs": [
    {
     "name": "stdout",
     "output_type": "stream",
     "text": [
      "[1, 2, 3, 4, 1, 2, 3, 4]\n",
      "[1, 2, 3, 4, 1, 2, 3, 4, 1, 2, 3, 4]\n",
      "<class 'list'>\n",
      "<class 'list'>\n",
      "[1, 2, 3, 4]\n",
      "[[5, 6, 7, 8]]\n"
     ]
    }
   ],
   "source": [
    "list1 = [1, 2, 3, 4]\n",
    "list2 = [1, 2, 3, 4]\n",
    "print(list1 + list2)\n",
    "print(list1*3)\n",
    "\n",
    "list3 = [[1, 2, 3, 4],[5, 6, 7, 8]]\n",
    "print(type(list3))\n",
    "print(type(list3[0]))\n",
    "print(list3[0])\n",
    "print(list3[1:3])"
   ]
  },
  {
   "cell_type": "markdown",
   "metadata": {},
   "source": [
    "list 跟 array 的運算不同\n",
    "list 僅可以做不同list之間的運算\n",
    "array可以針對元素進行運算(element wise calculas)\n",
    "且array運算後狀態不變"
   ]
  },
  {
   "cell_type": "code",
   "execution_count": 4,
   "metadata": {},
   "outputs": [
    {
     "name": "stdout",
     "output_type": "stream",
     "text": [
      "[[3 4 5]\n",
      " [6 7 8]]\n",
      "[[-1  0  1]\n",
      " [ 2  3  4]]\n",
      "[[ 2  4  6]\n",
      " [ 8 10 12]]\n",
      "[[0.5 1.  1.5]\n",
      " [2.  2.5 3. ]]\n",
      "\n",
      "[[0 1 1]\n",
      " [2 2 3]]\n",
      "[[1 0 1]\n",
      " [0 1 0]]\n",
      "[[ 1  4  9]\n",
      " [16 25 36]]\n"
     ]
    }
   ],
   "source": [
    "array1 = np.array([[1, 2, 3],[4, 5, 6]])\n",
    "\n",
    "# element wise calculas 每個元素都進行運算\n",
    "print(array1 + 2)\n",
    "print(array1 - 2)\n",
    "print(array1 * 2)\n",
    "print(array1 / 2)\n",
    "print()\n",
    "print(array1 // 2)\n",
    "print(array1 % 2)\n",
    "print(array1 ** 2)"
   ]
  },
  {
   "cell_type": "code",
   "execution_count": 5,
   "metadata": {},
   "outputs": [
    {
     "name": "stdout",
     "output_type": "stream",
     "text": [
      "[[ 2  5  8]\n",
      " [ 6  9 12]]\n",
      "[[ 0 -1 -2]\n",
      " [ 2  1  0]]\n",
      "[[ 1  6 15]\n",
      " [ 8 20 36]]\n",
      "[[1.         0.66666667 0.6       ]\n",
      " [2.         1.25       1.        ]]\n",
      "\n",
      "[[0 2 3]\n",
      " [0 1 0]]\n",
      "[[1 0 0]\n",
      " [2 1 1]]\n",
      "[[    1     8   243]\n",
      " [   16   625 46656]]\n"
     ]
    }
   ],
   "source": [
    "array1 = np.array([[1, 2, 3],[4, 5, 6]])\n",
    "array2 = np.array([[1, 3, 5],[2, 4, 6]])\n",
    "\n",
    "# 對應的位置做運算\n",
    "print(array1 + array2)\n",
    "print(array1 - array2)\n",
    "print(array1 * array2)\n",
    "print(array1 / array2)\n",
    "print()\n",
    "print(array1 % array2)\n",
    "print(array1 // array2)\n",
    "print(array1 ** array2)\n"
   ]
  },
  {
   "cell_type": "code",
   "execution_count": 6,
   "metadata": {},
   "outputs": [
    {
     "name": "stdout",
     "output_type": "stream",
     "text": [
      "[[1.         0.66666667 0.6       ]\n",
      " [2.         1.25       1.        ]]\n",
      "[[0. 0. 0.]\n",
      " [0. 0. 0.]]\n",
      "[[1. 1. 1.]\n",
      " [1. 1. 1.]]\n",
      "[[4. 4. 4.]\n",
      " [4. 4. 4.]]\n",
      "[[1. 0. 0.]\n",
      " [0. 1. 0.]\n",
      " [0. 0. 1.]]\n",
      "[[1 0 0]\n",
      " [0 2 0]\n",
      " [0 0 3]]\n"
     ]
    }
   ],
   "source": [
    "array1 = np.empty((2, 3))  # 創造一個2*3空np.array 數字會任意填入 格式為taple\n",
    "print(array1)\n",
    "array1 = np.zeros((2, 3))  # 印出一個內容是0的2*3 array\n",
    "print(array1)\n",
    "array1 = np.ones((2, 3))  # 印出一個內容是1的2*3 array\n",
    "print(array1)\n",
    "array1 = np.full((2, 3), 4.0)  # 全部填入4的 2*3 array\n",
    "print(array1)\n",
    "array1 = np.eye(3)  # 主對角線有3格 都填入1的方陣\n",
    "print(array1)\n",
    "array1 = np.diag([1, 2, 3])  # 主對角線填入1,2,3的方陣\n",
    "print(array1)"
   ]
  },
  {
   "cell_type": "code",
   "execution_count": 7,
   "metadata": {},
   "outputs": [
    {
     "name": "stdout",
     "output_type": "stream",
     "text": [
      "[0 1 2 3 4 5 6 7 8 9]\n",
      "[2 3 4 5 6 7 8 9]\n",
      "[2 5 8]\n"
     ]
    }
   ],
   "source": [
    "# 一個範圍 可以放入0-9的值 使用上同range 但是arange可以放入非整數\n",
    "print(np.arange(10))\n",
    "print(np.arange(2, 10))\n",
    "print(np.arange(2, 10, 3))  # 在2-10之間選出3個數字"
   ]
  },
  {
   "cell_type": "code",
   "execution_count": 11,
   "metadata": {},
   "outputs": [
    {
     "name": "stdout",
     "output_type": "stream",
     "text": [
      "[ 2.   2.5  3.   3.5  4.   4.5  5.   5.5  6.   6.5  7.   7.5  8.   8.5\n",
      "  9.   9.5 10. ]\n"
     ]
    },
    {
     "data": {
      "text/plain": [
       "array([[0, 1, 2],\n",
       "       [3, 4, 5]])"
      ]
     },
     "execution_count": 11,
     "metadata": {},
     "output_type": "execute_result"
    }
   ],
   "source": [
    "print(np.arange(2, 10.5, 0.5))\n",
    "np.arange(6).reshape(2, 3)  # 重新排列矩陣 後面的矩陣總數要跟前面一樣"
   ]
  },
  {
   "cell_type": "code",
   "execution_count": 12,
   "metadata": {},
   "outputs": [
    {
     "name": "stdout",
     "output_type": "stream",
     "text": [
      "[ 0.   2.5  5.   7.5 10. ]\n",
      "\n",
      "[0. 2. 4. 6. 8.]\n",
      "\n",
      "[ 0.  2.  4.  6.  8. 10.]\n"
     ]
    }
   ],
   "source": [
    "array1 = np.linspace(0, 10, 5)  # 值的開頭跟結尾 要產生幾個值 且值的間隔會平均\n",
    "print(array1)\n",
    "print()\n",
    "array2 = np.linspace(0, 10, 5, endpoint = False)  # 值的開頭跟結尾 要產生幾個值 最後一個值會去掉\n",
    "print(array2)\n",
    "print()\n",
    "array3 = np.linspace(0, 10, 6)  # 值的開頭跟結尾 要產生幾個值 與上式不同\n",
    "print(array3)"
   ]
  },
  {
   "cell_type": "code",
   "execution_count": 22,
   "metadata": {},
   "outputs": [
    {
     "name": "stdout",
     "output_type": "stream",
     "text": [
      "a =>  [6 7 8 9]\n",
      "b =>  [0 1 2 3]\n",
      "c =>  [6 6 6 6]\n",
      "d =>  [0 1 4 9]\n",
      "\n",
      "f =>  [5 1 1 9 1]\n"
     ]
    }
   ],
   "source": [
    "# 範例\n",
    "import numpy as np\n",
    "a = np.array([6, 7, 8, 9])\n",
    "b = np.arange(4)\n",
    "c = a - b\n",
    "print(\"a => \", a)\n",
    "print(\"b => \", b)\n",
    "print(\"c => \", c)\n",
    "d = b ** 2\n",
    "print(\"d => \", d)\n",
    "print()\n",
    "# 程式會進行比較 篩選出<=3的值 並列印出來(滿足條件的話會印出1)\n",
    "f = np.array([5, -1, 3, 9, 0])\n",
    "f[f<=3] = 1\n",
    "print(\"f => \", f)"
   ]
  },
  {
   "cell_type": "code",
   "execution_count": 20,
   "metadata": {},
   "outputs": [
    {
     "data": {
      "text/plain": [
       "array([1, 3])"
      ]
     },
     "execution_count": 20,
     "metadata": {},
     "output_type": "execute_result"
    }
   ],
   "source": [
    "# 可篩選元素 選出 True 的位置\n",
    "x = np.array([1, 2, 3])\n",
    "y = np.array([True, False, True])\n",
    "x[y]"
   ]
  },
  {
   "cell_type": "code",
   "execution_count": 23,
   "metadata": {},
   "outputs": [
    {
     "name": "stdout",
     "output_type": "stream",
     "text": [
      "[[0 1 2]\n",
      " [3 4 5]\n",
      " [6 7 8]]\n"
     ]
    }
   ],
   "source": [
    "array1 = np.arange(9).reshape(3, 3)\n",
    "print(array1)"
   ]
  },
  {
   "cell_type": "code",
   "execution_count": 27,
   "metadata": {},
   "outputs": [
    {
     "name": "stdout",
     "output_type": "stream",
     "text": [
      "[3 4 5]\n",
      "[4 5]\n",
      "[4 5]\n",
      "[2 5 8]\n",
      "[3 4 5]\n",
      "[[3 4]\n",
      " [6 7]]\n"
     ]
    }
   ],
   "source": [
    "print(array1[1])  # 取出第 \"2\"row\n",
    "print(array1[1][1:3])  # 取出第 \"2\"row的第1-2個\n",
    "print(array1[1, 1:3])  # 取出第 \"2\"row的第1-2個\n",
    "print(array1[:,2])  # 取出全部的 row 第\"2\"格的columu\n",
    "print(array1[1, :])  # 取出第 \"1\"個 row  全部的columu \n",
    "print(array1[1:3, 0:2])  # 取出 row:1-2;columu:0-1"
   ]
  },
  {
   "cell_type": "code",
   "execution_count": 31,
   "metadata": {},
   "outputs": [
    {
     "name": "stdout",
     "output_type": "stream",
     "text": [
      "[[1 2 3]\n",
      " [3 6 9]\n",
      " [2 4 6]]\n",
      "\n",
      "[6 9]\n",
      "\n",
      "[2 6 4]\n",
      "\n",
      "[[1 2 3]\n",
      " [3 6 7]\n",
      " [2 4 6]]\n",
      "\n",
      "[[0 2 3]\n",
      " [9 6 7]\n",
      " [8 4 6]]\n"
     ]
    }
   ],
   "source": [
    "import numpy as np\n",
    "a = np.array([[1, 2, 3], [3, 6, 9], [2, 4, 6]])\n",
    "print(a)\n",
    "print()\n",
    "print(a[1, 1:3])\n",
    "print()\n",
    "print(a[:, 1])\n",
    "print()\n",
    "# 將 row=1;columu=2 的數字置換成7\n",
    "a[1, 2] = 7\n",
    "print(a)\n",
    "print()\n",
    "# 將 每個row;columu=0的數字置換成[0, 9, 8]\n",
    "a[:, 0]= [0, 9, 8]\n",
    "print(a)"
   ]
  },
  {
   "cell_type": "code",
   "execution_count": 38,
   "metadata": {},
   "outputs": [
    {
     "name": "stdout",
     "output_type": "stream",
     "text": [
      "\n",
      "[ 1 12 23 34 45]\n",
      "\n",
      "[[30 32 35]\n",
      " [40 42 45]\n",
      " [50 52 55]]\n"
     ]
    }
   ],
   "source": [
    "import numpy as np\n",
    "a = np.array([[0, 1, 2, 3, 4, 5], \n",
    "              [10, 11, 12, 13, 14, 15], \n",
    "              [20, 21, 22, 23, 24, 25], \n",
    "              [30, 31, 32, 33, 34, 35], \n",
    "              [40, 41, 42, 43, 44, 45], \n",
    "              [50, 51, 52, 53, 54, 55]])\n",
    "print()\n",
    "print(a[(0, 1, 2, 3, 4), (1, 2, 3, 4, 5)])\n",
    "print()\n",
    "print(a[3:,[0, 2, 5]])  # row 從第 3 格開始 columu取0, 2, 5 格"
   ]
  },
  {
   "cell_type": "code",
   "execution_count": 67,
   "metadata": {},
   "outputs": [
    {
     "name": "stdout",
     "output_type": "stream",
     "text": [
      "[0 1 2 3 4 5]\n",
      "\n",
      "[[0 1 2]\n",
      " [3 4 5]]\n",
      "\n",
      "[[100   1   2]\n",
      " [  3   4   5]]\n",
      "\n",
      "2530194283056\n",
      "2530194280656\n",
      "2530194395208\n",
      "2530194395208\n",
      "\n",
      "[[100   1   2]\n",
      " [  3   4   5]]\n"
     ]
    }
   ],
   "source": [
    "array1 = np.arange(6)\n",
    "array2 = array1.reshape(2, 3)\n",
    "array3 = np.reshape(array1, (2, 3))\n",
    "# 上述兩個操作皆相同 皆為改變array1的形狀 但是內容都是對準array1\n",
    "print(array1)\n",
    "print()\n",
    "print(array2)\n",
    "print()\n",
    "array1[0] = 100  # 將第一格換成 100\n",
    "print(array2)\n",
    "print()\n",
    "# 找出其記憶體位置\n",
    "print(id(array1))\n",
    "print(id(array2))\n",
    "print(id(array1[0]))\n",
    "print(id(array2[0, 0]))\n",
    "# 由於arrya2、array3都是呼叫arrat1因此當array1改變時 2、3也會跟著改變\n",
    "print()\n",
    "print(array3)"
   ]
  },
  {
   "cell_type": "code",
   "execution_count": 75,
   "metadata": {},
   "outputs": [
    {
     "name": "stdout",
     "output_type": "stream",
     "text": [
      "[[0 1 2]\n",
      " [3 4 5]]\n",
      "\n",
      "[[0 1]\n",
      " [2 3]\n",
      " [4 5]]\n",
      "\n",
      "[[0 1]\n",
      " [2 3]\n",
      " [4 5]]\n",
      "\n",
      "[[100 100 100]\n",
      " [  3   4   5]]\n"
     ]
    }
   ],
   "source": [
    "array1 = np.arange(6)\n",
    "array1.resize(2, 3)\n",
    "print(array1)\n",
    "print()\n",
    "# 這樣會創造出兩個不同的array1、array2\n",
    "array2 = np.resize(array1, (3, 2))  # 複製出一組資料 稱為array2\n",
    "print(array2)\n",
    "print()\n",
    "array1[0] = 100\n",
    "print(array2)\n",
    "print()\n",
    "# 當array1改變時 array2並不會改變\n",
    "print(array1)"
   ]
  },
  {
   "cell_type": "code",
   "execution_count": 85,
   "metadata": {},
   "outputs": [
    {
     "name": "stdout",
     "output_type": "stream",
     "text": [
      "[[0 1 2 3]\n",
      " [4 5 6 7]]\n",
      "\n",
      "[[0 1 2 3]\n",
      " [4 5 6 7]]\n",
      "\n",
      "[[0 1 2 3]\n",
      " [4 5 6 7]]\n",
      "\n",
      "None\n",
      "\n",
      "Change\n",
      "\n",
      "[[100 100 100 100]\n",
      " [  4   5   6   7]]\n",
      "\n",
      "[[100 100 100 100]\n",
      " [  4   5   6   7]]\n",
      "\n",
      "[[0 1 2 3]\n",
      " [4 5 6 7]]\n"
     ]
    }
   ],
   "source": [
    "array1 = np.arange(8)\n",
    "array2 = array1.reshape(2, 4)\n",
    "array3 = np.resize(array1,(2, 4))\n",
    "array4 = array1.resize(2, 4)  # 因為未定義出array1 因此使用resize呼叫會無效\n",
    "print(array1)\n",
    "print()\n",
    "print(array2)\n",
    "print()\n",
    "print(array3)\n",
    "print()\n",
    "print(array4)\n",
    "print()\n",
    "print(\"Change\")\n",
    "print()\n",
    "array1[0] = 100\n",
    "print(array1)\n",
    "print()\n",
    "print(array2)\n",
    "print()\n",
    "print(array3)"
   ]
  },
  {
   "cell_type": "code",
   "execution_count": 87,
   "metadata": {},
   "outputs": [
    {
     "name": "stdout",
     "output_type": "stream",
     "text": [
      "[[0 1 2]\n",
      " [3 4 5]]\n",
      "\n",
      "[[0 1 2]\n",
      " [3 4 5]\n",
      " [0 1 2]]\n"
     ]
    }
   ],
   "source": [
    "array1 = np.arange(6)\n",
    "array1.resize(2, 3)\n",
    "print(array1)\n",
    "print()\n",
    "# 如果使用resize 當字串不足時會自動重複\n",
    "array2 = np.resize(array1, (3, 3))\n",
    "print(array2)"
   ]
  },
  {
   "cell_type": "code",
   "execution_count": 90,
   "metadata": {},
   "outputs": [
    {
     "name": "stdout",
     "output_type": "stream",
     "text": [
      "[[11 12 13]\n",
      " [14 15 16]\n",
      " [17 18 19]]\n"
     ]
    }
   ],
   "source": [
    "import numpy as np\n",
    "# 程式只要row有符合 會自動變化成可運算之符號\n",
    "a = np.array([[1, 2, 3], [4, 5, 6], [7, 8, 9]])\n",
    "b = np.array([10, 10, 10])\n",
    "c = a + b\n",
    "print(c)"
   ]
  },
  {
   "cell_type": "code",
   "execution_count": null,
   "metadata": {},
   "outputs": [],
   "source": []
  },
  {
   "cell_type": "code",
   "execution_count": null,
   "metadata": {},
   "outputs": [],
   "source": []
  }
 ],
 "metadata": {
  "kernelspec": {
   "display_name": "Python 3",
   "language": "python",
   "name": "python3"
  },
  "language_info": {
   "codemirror_mode": {
    "name": "ipython",
    "version": 3
   },
   "file_extension": ".py",
   "mimetype": "text/x-python",
   "name": "python",
   "nbconvert_exporter": "python",
   "pygments_lexer": "ipython3",
   "version": "3.7.0"
  }
 },
 "nbformat": 4,
 "nbformat_minor": 2
}
