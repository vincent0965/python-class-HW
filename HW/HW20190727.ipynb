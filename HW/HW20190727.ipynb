{
 "cells": [
  {
   "cell_type": "markdown",
   "metadata": {},
   "source": [
    "回文偵測"
   ]
  },
  {
   "cell_type": "code",
   "execution_count": 1,
   "metadata": {},
   "outputs": [
    {
     "name": "stdout",
     "output_type": "stream",
     "text": [
      "Please enter the word:ppap\n",
      "Please enter the word:appo\n",
      "Please enter the word:awwa\n",
      "Please enter the word:qwpoqw\n",
      "Please enter the word:QAQ\n",
      "Please enter the word:0\n",
      "['ppap', 'appo', 'awwa', 'qwpoqw', 'QAQ']\n",
      "ppap\n",
      "appo\n",
      "awwa\n",
      "qwpoqw\n",
      "QAQ\n",
      "['awwa', 'QAQ']\n"
     ]
    }
   ],
   "source": [
    "list1 = []\n",
    "while True:\n",
    "    element = input(\"Please enter the word:\")\n",
    "    if element == \"0\":\n",
    "        break\n",
    "    list1.append(element)\n",
    "    \n",
    "print(list1)\n",
    "list2 = list1.copy()\n",
    "# 判斷是否為回文\n",
    "for i in list1:\n",
    "    print(i)\n",
    "    if i != i[::-1]:  # 判斷字串頭尾是否一樣\n",
    "        list2.remove(i)\n",
    "print(list2)"
   ]
  },
  {
   "cell_type": "code",
   "execution_count": 2,
   "metadata": {},
   "outputs": [
    {
     "data": {
      "text/plain": [
       "'http://dpaste.com/2MTG9MW'"
      ]
     },
     "execution_count": 2,
     "metadata": {},
     "output_type": "execute_result"
    }
   ],
   "source": [
    "%pastebin 1"
   ]
  }
 ],
 "metadata": {
  "kernelspec": {
   "display_name": "Python 3",
   "language": "python",
   "name": "python3"
  },
  "language_info": {
   "codemirror_mode": {
    "name": "ipython",
    "version": 3
   },
   "file_extension": ".py",
   "mimetype": "text/x-python",
   "name": "python",
   "nbconvert_exporter": "python",
   "pygments_lexer": "ipython3",
   "version": "3.7.0"
  }
 },
 "nbformat": 4,
 "nbformat_minor": 2
}
