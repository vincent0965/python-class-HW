{
 "cells": [
  {
   "cell_type": "code",
   "execution_count": 2,
   "metadata": {},
   "outputs": [
    {
     "name": "stdout",
     "output_type": "stream",
     "text": [
      "[25, 1, 4, 36, 9, 9]\n"
     ]
    }
   ],
   "source": [
    "list1 = [5, 1, 2, 6, 3, 3]\n",
    "list2 = list()\n",
    "for i in list1:\n",
    "    list2.append(i ** 2)\n",
    "print(list2)"
   ]
  },
  {
   "cell_type": "code",
   "execution_count": 15,
   "metadata": {},
   "outputs": [],
   "source": [
    "def modify_list1(list1, s):\n",
    "    return [i % s for i in list1]\n",
    "\n",
    "def modify_list2(i):\n",
    "    return i % s"
   ]
  },
  {
   "cell_type": "code",
   "execution_count": 6,
   "metadata": {},
   "outputs": [
    {
     "data": {
      "text/plain": [
       "[25, 1, 4, 36, 9, 9]"
      ]
     },
     "execution_count": 6,
     "metadata": {},
     "output_type": "execute_result"
    }
   ],
   "source": [
    "s = 2\n",
    "[i ** 2 for i in list1]"
   ]
  },
  {
   "cell_type": "code",
   "execution_count": 7,
   "metadata": {},
   "outputs": [
    {
     "data": {
      "text/plain": [
       "[1, 1, 2, 2, 3, 3]"
      ]
     },
     "execution_count": 7,
     "metadata": {},
     "output_type": "execute_result"
    }
   ],
   "source": [
    "list1 = [5, 1, 2, 6, 3, 3]\n",
    "modify_list1(list1, 4)"
   ]
  },
  {
   "cell_type": "code",
   "execution_count": 17,
   "metadata": {},
   "outputs": [
    {
     "name": "stdout",
     "output_type": "stream",
     "text": [
      "[1, 1, 0, 0, 1, 1]\n",
      "[1, 1, 0, 0, 1, 1]\n"
     ]
    }
   ],
   "source": [
    "list1 = [5, 1, 2, 6, 3, 3]\n",
    "# 將後面的樹放入前面的funtion 再重新收集起來變成一個新的list\n",
    "print(list(map(modify_list2, list1)))\n",
    "# 上述的程式碼會一直繞來繞去 此時使用lambda較合適\n",
    "print(list(map(lambda x: x % 2, list1)))"
   ]
  },
  {
   "cell_type": "code",
   "execution_count": 18,
   "metadata": {},
   "outputs": [
    {
     "name": "stdout",
     "output_type": "stream",
     "text": [
      "[1, 1, 1, 0, 0, 0]\n",
      "[11, 8, 20, 13, 21, 14]\n"
     ]
    }
   ],
   "source": [
    "list1 = [5, 3, 9, 4, 6, 4]\n",
    "list2 = [1, 2, 2, 5, 9, 6, 4, 8]\n",
    "# map會將數字處理後的結果全部收集起來\n",
    "print(list(map(lambda x: x % 2, list1)))\n",
    "print(list(map(lambda x, y: x * 2 + y, list1, list2)))"
   ]
  },
  {
   "cell_type": "code",
   "execution_count": 21,
   "metadata": {},
   "outputs": [
    {
     "name": "stdout",
     "output_type": "stream",
     "text": [
      "[4, 6, 4]\n",
      "[5, 3, 9]\n"
     ]
    }
   ],
   "source": [
    "list1 = [5, 3, 9, 4, 6, 4]\n",
    "# filter會將數字轉換成booling 將產生True(!=0)的數字收起來\n",
    "print(list(filter(lambda x: x % 2 == 0, list1)))  # 設定他收集False\n",
    "print(list(filter(lambda x: x % 2 , list1)))  # 無設定 則會轉出True"
   ]
  },
  {
   "cell_type": "code",
   "execution_count": 31,
   "metadata": {},
   "outputs": [],
   "source": [
    "prog_list = [{\"name\": \"python\", \"point\": 8}, {\"name\": \"java\", \"point\": 10}]"
   ]
  },
  {
   "cell_type": "code",
   "execution_count": 32,
   "metadata": {},
   "outputs": [
    {
     "name": "stdout",
     "output_type": "stream",
     "text": [
      "['python', 'java']\n",
      "['python', 'java']\n",
      "[80, 100]\n",
      "[True, False]\n",
      "[{'name': 'python', 'point': 8}]\n",
      "[11, 22, 33]\n"
     ]
    }
   ],
   "source": [
    "print(list(map(lambda x: x[\"name\"], prog_list)))\n",
    "print(list(map(lambda x: x.get(\"name\"), prog_list)))\n",
    "print(list(map(lambda x: x.get(\"point\") * 10, prog_list)))\n",
    "print(list(map(lambda x: x.get(\"name\") == \"python\", prog_list)))\n",
    "print(list(filter(lambda x: x.get(\"name\") == \"python\", prog_list)))\n",
    "\n",
    "list1 = [1, 2, 3]\n",
    "list2 = [10, 20, 30]\n",
    "print(list(map(lambda x, y: x + y, list1, list2)))"
   ]
  },
  {
   "cell_type": "code",
   "execution_count": 3,
   "metadata": {},
   "outputs": [
    {
     "data": {
      "text/plain": [
       "[97, 45, 1, 92, 94, 59, 68, 9, 77, 24]"
      ]
     },
     "execution_count": 3,
     "metadata": {},
     "output_type": "execute_result"
    }
   ],
   "source": [
    "import random  # 0-1之間的float\n",
    "random.seed(1234)  # 鎖定隨機值 \n",
    "[int(random.random() * 100 + 1) for _ in range(10)]"
   ]
  },
  {
   "cell_type": "code",
   "execution_count": 99,
   "metadata": {},
   "outputs": [
    {
     "name": "stdout",
     "output_type": "stream",
     "text": [
      "[7, 6, 3, 8, 4, 1, 6, 10, 6, 7]\n"
     ]
    }
   ],
   "source": [
    "# randint(x, y) 包含x以及y值得範圍內\n",
    "list1 = [random.randint(1, 10) for i in range(10)]\n",
    "print(list1)"
   ]
  },
  {
   "cell_type": "code",
   "execution_count": 110,
   "metadata": {},
   "outputs": [
    {
     "name": "stdout",
     "output_type": "stream",
     "text": [
      "[7, 5, 9, 6, 7, 9, 4, 8, 8, 6]\n"
     ]
    }
   ],
   "source": [
    "# randrange(x, y) 包含x不包含y的範圍\n",
    "list2 = [random.randrange(1, 10) for i in range(10)]\n",
    "print(list2)"
   ]
  },
  {
   "cell_type": "code",
   "execution_count": 4,
   "metadata": {},
   "outputs": [
    {
     "name": "stdout",
     "output_type": "stream",
     "text": [
      "[0, 1, 2, 3, 4, 5, 6, 7, 8, 9]\n",
      "[2, 8, 3, 5, 6, 4, 9, 0, 1, 7]\n"
     ]
    }
   ],
   "source": [
    "num_list = list(range(10))\n",
    "print(num_list)\n",
    "random.seed(1234)\n",
    "random.shuffle(num_list)\n",
    "print(num_list)"
   ]
  },
  {
   "cell_type": "code",
   "execution_count": 9,
   "metadata": {},
   "outputs": [
    {
     "name": "stdout",
     "output_type": "stream",
     "text": [
      "[8, 0]\n",
      "[8, 1, 0, 2, 9, 3, 4, 7, 6, 5]\n"
     ]
    }
   ],
   "source": [
    "num_list = list(range(10))\n",
    "# 取後不放回 從num_list中取出2個不放回\n",
    "print(random.sample(num_list, 2))\n",
    "print(random.sample(num_list, 10))\n",
    "# random.sample(num_list, 15) 因為已經超出list擁有的數字 所以會錯誤"
   ]
  },
  {
   "cell_type": "code",
   "execution_count": 10,
   "metadata": {},
   "outputs": [
    {
     "name": "stdout",
     "output_type": "stream",
     "text": [
      "9\n",
      "[4, 0, 2, 0, 3]\n"
     ]
    }
   ],
   "source": [
    "num_list = list(range(10))\n",
    "# 取後放回 從num_list中取出放回\n",
    "print(random.choice(num_list))\n",
    "# 取後放回 從num_list中取出5個後放回\n",
    "print(random.choices(num_list, k = 5))"
   ]
  },
  {
   "cell_type": "markdown",
   "metadata": {},
   "source": [
    "7/30 現在時間15:00 已經上課約1.5小時"
   ]
  },
  {
   "cell_type": "code",
   "execution_count": 4,
   "metadata": {},
   "outputs": [
    {
     "name": "stdout",
     "output_type": "stream",
     "text": [
      "2.23606797749979\n",
      "3.141592653589793\n",
      "2.718281828459045\n",
      "8.0\n",
      "6\n"
     ]
    }
   ],
   "source": [
    "import math  #數學模組\n",
    "\n",
    "print(math.sqrt(5))\n",
    "# 圓周率\n",
    "print(math.pi)\n",
    "# 自然數\n",
    "print(math.e)\n",
    "print(math.pow(2, 3))  #pow 會回傳 float\n",
    "print(2 * 3)"
   ]
  },
  {
   "cell_type": "code",
   "execution_count": 5,
   "metadata": {},
   "outputs": [
    {
     "name": "stdout",
     "output_type": "stream",
     "text": [
      "2\n",
      "4\n"
     ]
    }
   ],
   "source": [
    "# 針對 float運算進行的 function\n",
    "print(math.floor(2.55))  #無條件捨去\n",
    "print(math.ceil(3.56))  #無條件進位"
   ]
  },
  {
   "cell_type": "code",
   "execution_count": 6,
   "metadata": {},
   "outputs": [
    {
     "name": "stdout",
     "output_type": "stream",
     "text": [
      "3\n",
      "22.65\n",
      "20.0\n"
     ]
    }
   ],
   "source": [
    "print(round(2.6598))  # 四捨五入\n",
    "print(round(22.65, 3))  #四捨五入 後者為第幾個位數\n",
    "print(round(22.65, -1))  # -1表示四捨五入到十位\n"
   ]
  },
  {
   "cell_type": "code",
   "execution_count": 7,
   "metadata": {},
   "outputs": [
    {
     "data": {
      "text/plain": [
       "'C:\\\\Users\\\\etlab'"
      ]
     },
     "execution_count": 7,
     "metadata": {},
     "output_type": "execute_result"
    }
   ],
   "source": [
    "import os\n",
    "os.getcwd()  # 呼叫jupyter的檔案路徑"
   ]
  },
  {
   "cell_type": "code",
   "execution_count": 8,
   "metadata": {},
   "outputs": [],
   "source": [
    "# 建立文字檔案\n",
    "text = '''python與中文\n",
    "1.我們來試試看諄文儲存能力\n",
    "2.許這個字會有編碼衝突風險\n",
    "3.犇這個字必須是utf8編碼才有。'''\n",
    "# 中間 w 表示寫出一個檔案\n",
    "print(text, file=open(\"data.txt\", \"w\", encoding = \"utf8\"))"
   ]
  },
  {
   "cell_type": "code",
   "execution_count": 9,
   "metadata": {},
   "outputs": [
    {
     "data": {
      "text/plain": [
       "<_io.TextIOWrapper name='data.txt' mode='r' encoding='cp950'>"
      ]
     },
     "execution_count": 9,
     "metadata": {},
     "output_type": "execute_result"
    }
   ],
   "source": [
    "open(\"data.txt\")"
   ]
  },
  {
   "cell_type": "code",
   "execution_count": 5,
   "metadata": {},
   "outputs": [
    {
     "name": "stdout",
     "output_type": "stream",
     "text": [
      "Please enter point of no.1 student(-1 to exist)98\n",
      "Please enter point of no.2 student(-1 to exist)65\n",
      "Please enter point of no.3 student(-1 to exist)36\n",
      "Please enter point of no.4 student(-1 to exist)65\n",
      "Please enter point of no.5 student(-1 to exist)98\n",
      "Please enter point of no.6 student(-1 to exist)100\n",
      "Please enter point of no.7 student(-1 to exist)-1\n"
     ]
    }
   ],
   "source": [
    "no = 1\n",
    "scores = dict()\n",
    "while True:\n",
    "    score = int(input(\"Please enter point of no.{} student(-1 to exist)\".format(no)))\n",
    "    if score ==-1:\n",
    "        break\n",
    "    scores[no] = score\n",
    "    no += 1\n",
    "fhand = open(\"score.txt\", \"w\", encoding = \"utf8\")\n",
    "fhand.write(str(scores))\n",
    "fhand.close()"
   ]
  },
  {
   "cell_type": "code",
   "execution_count": null,
   "metadata": {},
   "outputs": [],
   "source": []
  },
  {
   "cell_type": "code",
   "execution_count": null,
   "metadata": {},
   "outputs": [],
   "source": []
  },
  {
   "cell_type": "code",
   "execution_count": null,
   "metadata": {},
   "outputs": [],
   "source": []
  },
  {
   "cell_type": "code",
   "execution_count": null,
   "metadata": {},
   "outputs": [],
   "source": []
  },
  {
   "cell_type": "code",
   "execution_count": null,
   "metadata": {},
   "outputs": [],
   "source": []
  },
  {
   "cell_type": "code",
   "execution_count": null,
   "metadata": {},
   "outputs": [],
   "source": []
  }
 ],
 "metadata": {
  "kernelspec": {
   "display_name": "Python 3",
   "language": "python",
   "name": "python3"
  }
 },
 "nbformat": 4,
 "nbformat_minor": 2
}
