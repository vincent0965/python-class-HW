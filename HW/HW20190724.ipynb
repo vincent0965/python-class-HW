{
 "cells": [
  {
   "cell_type": "markdown",
   "metadata": {},
   "source": [
    "設計一個清單 找出清單中的物件\n",
    "如果按下enter 跳出此程式"
   ]
  },
  {
   "cell_type": "code",
   "execution_count": 3,
   "metadata": {},
   "outputs": [
    {
     "name": "stdout",
     "output_type": "stream",
     "text": [
      "請輸入喜歡的水果:番茄\n",
      " 番茄 在清單中的第 1 項\n",
      "請輸入喜歡的水果:西瓜\n",
      " 西瓜 在清單中的第 2 項\n",
      "請輸入喜歡的水果:檸檬\n",
      " 檸檬 在清單中的第 5 項\n",
      "請輸入喜歡的水果:\n"
     ]
    }
   ],
   "source": [
    "list1 = [\"番茄\", \"西瓜\", \"蘋果\", \"香蕉\", \"檸檬\"]\n",
    "\n",
    "while True:\n",
    "    str_search = input(\"請輸入喜歡的水果:\")\n",
    "    if str_search == str():\n",
    "        break\n",
    "    if str_search in list1:\n",
    "        print(\" %s 在清單中的第 %d 項\" % (str_search, list1.index(str_search)+1))\n",
    "        continue\n",
    "    else:\n",
    "        print(\" %s 不在清單中\" % str_search)\n",
    "        continue"
   ]
  },
  {
   "cell_type": "code",
   "execution_count": 4,
   "metadata": {},
   "outputs": [
    {
     "data": {
      "text/plain": [
       "'http://dpaste.com/232ARKQ'"
      ]
     },
     "execution_count": 4,
     "metadata": {},
     "output_type": "execute_result"
    }
   ],
   "source": [
    "%pastebin 3"
   ]
  },
  {
   "cell_type": "code",
   "execution_count": null,
   "metadata": {},
   "outputs": [],
   "source": []
  }
 ],
 "metadata": {
  "kernelspec": {
   "display_name": "Python 3",
   "language": "python",
   "name": "python3"
  }
 },
 "nbformat": 4,
 "nbformat_minor": 2
}
