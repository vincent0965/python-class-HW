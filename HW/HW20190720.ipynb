{
 "cells": [
  {
   "cell_type": "code",
   "execution_count": 1,
   "metadata": {},
   "outputs": [
    {
     "name": "stdout",
     "output_type": "stream",
     "text": [
      "失敗五次即退出遊戲\n",
      "請輸入字串 Python Python\n",
      "請輸入 n 開始的字串: ned\n",
      "['Python', 'ned']\n",
      "請輸入 d 開始的字串: diiv\n",
      "['Python', 'ned', 'diiv']\n",
      "請輸入 v 開始的字串: jcjc\n",
      "輸入錯誤 還有 4 次機會\n",
      "請輸入 v 開始的字串: jdkc\n",
      "輸入錯誤 還有 3 次機會\n",
      "請輸入 v 開始的字串: sjsc\n",
      "輸入錯誤 還有 2 次機會\n",
      "請輸入 v 開始的字串: jksld\n",
      "輸入錯誤 還有 1 次機會\n",
      "請輸入 v 開始的字串: ksjlds\n",
      "Game Over\n"
     ]
    }
   ],
   "source": [
    "print(\"失敗五次即退出遊戲\")\n",
    "\n",
    "list1 = []  # 主要串列\n",
    "list2 = []  # 次要串列1\n",
    "list3 = []  # 次要串列2\n",
    "\n",
    "a = input(\"請輸入字串 Python \")\n",
    "list1.append(a)\n",
    "list2.extend(a)  # 確認前一個輸入的單字最後一個字母  \n",
    "    \n",
    "n = 0  # 紀錄失敗次數\n",
    "while n < 5:\n",
    "    \n",
    "    b = input(\"請輸入 %s 開始的字串: \" % list2[-1])\n",
    "    list3.extend(b)  # 確認後一個輸入的單字第一個字母\n",
    "\n",
    "    i = list2[-1]  # 前者的最後一個字母\n",
    "    j = list3[0]  # 後者的第一個字母 \n",
    "\n",
    "    if (i == j):\n",
    "        list3.clear()  # 清空次要串列2\n",
    "        list1.append(b)\n",
    "        list2.extend(b)\n",
    "        print(list1)\n",
    "        \n",
    "    else:\n",
    "        list3.clear()  # 清空次要串列2\n",
    "        num = 4 - n\n",
    "        if n == 4:\n",
    "            break\n",
    "        print(\"輸入錯誤 還有 %d 次機會\" % num)\n",
    "        n += 1\n",
    "        \n",
    "print(\"Game Over\")"
   ]
  },
  {
   "cell_type": "code",
   "execution_count": 2,
   "metadata": {},
   "outputs": [
    {
     "data": {
      "text/plain": [
       "'http://dpaste.com/29HMP4B'"
      ]
     },
     "execution_count": 2,
     "metadata": {},
     "output_type": "execute_result"
    }
   ],
   "source": [
    "%pastebin 1"
   ]
  }
 ],
 "metadata": {
  "kernelspec": {
   "display_name": "Python 3",
   "language": "python",
   "name": "python3"
  },
  "language_info": {
   "codemirror_mode": {
    "name": "ipython",
    "version": 3
   },
   "file_extension": ".py",
   "mimetype": "text/x-python",
   "name": "python",
   "nbconvert_exporter": "python",
   "pygments_lexer": "ipython3",
   "version": "3.7.0"
  }
 },
 "nbformat": 4,
 "nbformat_minor": 2
}
